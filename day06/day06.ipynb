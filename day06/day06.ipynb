{
 "cells": [
  {
   "cell_type": "code",
   "execution_count": 1,
   "metadata": {},
   "outputs": [],
   "source": [
    "import numpy as np\n",
    "import pandas as pd"
   ]
  },
  {
   "cell_type": "code",
   "execution_count": 2,
   "metadata": {},
   "outputs": [
    {
     "data": {
      "text/plain": [
       "array([3, 4, 3, 1, 2])"
      ]
     },
     "execution_count": 2,
     "metadata": {},
     "output_type": "execute_result"
    }
   ],
   "source": [
    "input_day06_test = \"3,4,3,1,2\"\n",
    "initial_gen_test = np.array([int(x) for x in input_day06_test.split(\",\")])\n",
    "initial_gen_test"
   ]
  },
  {
   "cell_type": "code",
   "execution_count": 3,
   "metadata": {},
   "outputs": [
    {
     "data": {
      "text/plain": [
       "array([3, 4, 3, 1, 2, 1, 5, 1, 1, 1, 1, 4, 1, 2, 1, 1, 2, 1, 1, 1, 3, 4,\n",
       "       4, 4, 1, 3, 2, 1, 3, 4, 1, 1, 3, 4, 2, 5, 5, 3, 3, 3, 5, 1, 4, 1,\n",
       "       2, 3, 1, 1, 1, 4, 1, 4, 1, 5, 3, 3, 1, 4, 1, 5, 1, 2, 2, 1, 1, 5,\n",
       "       5, 2, 5, 1, 1, 1, 1, 3, 1, 4, 1, 1, 1, 4, 1, 1, 1, 5, 2, 3, 5, 3,\n",
       "       4, 1, 1, 1, 1, 1, 2, 2, 1, 1, 1, 1, 1, 1, 5, 5, 1, 3, 3, 1, 2, 1,\n",
       "       3, 1, 5, 1, 1, 4, 1, 1, 2, 4, 1, 5, 1, 1, 3, 3, 3, 4, 2, 4, 1, 1,\n",
       "       5, 1, 1, 1, 1, 4, 4, 1, 1, 1, 3, 1, 1, 2, 1, 3, 1, 1, 1, 1, 5, 3,\n",
       "       3, 2, 2, 1, 4, 3, 3, 2, 1, 3, 3, 1, 2, 5, 1, 3, 5, 2, 2, 1, 1, 1,\n",
       "       1, 5, 1, 2, 1, 1, 3, 5, 4, 2, 3, 1, 1, 1, 4, 1, 3, 2, 1, 5, 4, 5,\n",
       "       1, 4, 5, 1, 3, 3, 5, 1, 2, 1, 1, 3, 3, 1, 5, 3, 1, 1, 1, 3, 2, 5,\n",
       "       5, 1, 1, 4, 2, 1, 2, 1, 1, 5, 5, 1, 4, 1, 1, 3, 1, 5, 2, 5, 3, 1,\n",
       "       5, 2, 2, 1, 1, 5, 1, 5, 1, 2, 1, 3, 1, 1, 1, 2, 3, 2, 1, 4, 1, 1,\n",
       "       1, 1, 5, 4, 1, 4, 5, 1, 4, 3, 4, 1, 1, 1, 1, 2, 5, 4, 1, 1, 3, 1,\n",
       "       2, 1, 1, 2, 1, 1, 1, 2, 1, 1, 1, 1, 1, 4])"
      ]
     },
     "execution_count": 3,
     "metadata": {},
     "output_type": "execute_result"
    }
   ],
   "source": [
    "input_day06 = \"3,4,3,1,2,1,5,1,1,1,1,4,1,2,1,1,2,1,1,1,3,4,4,4,1,3,2,1,3,4,1,1,3,4,2,5,5,3,3,3,5,1,4,1,2,3,1,1,1,4,1,4,1,5,3,3,1,4,1,5,1,2,2,1,1,5,5,2,5,1,1,1,1,3,1,4,1,1,1,4,1,1,1,5,2,3,5,3,4,1,1,1,1,1,2,2,1,1,1,1,1,1,5,5,1,3,3,1,2,1,3,1,5,1,1,4,1,1,2,4,1,5,1,1,3,3,3,4,2,4,1,1,5,1,1,1,1,4,4,1,1,1,3,1,1,2,1,3,1,1,1,1,5,3,3,2,2,1,4,3,3,2,1,3,3,1,2,5,1,3,5,2,2,1,1,1,1,5,1,2,1,1,3,5,4,2,3,1,1,1,4,1,3,2,1,5,4,5,1,4,5,1,3,3,5,1,2,1,1,3,3,1,5,3,1,1,1,3,2,5,5,1,1,4,2,1,2,1,1,5,5,1,4,1,1,3,1,5,2,5,3,1,5,2,2,1,1,5,1,5,1,2,1,3,1,1,1,2,3,2,1,4,1,1,1,1,5,4,1,4,5,1,4,3,4,1,1,1,1,2,5,4,1,1,3,1,2,1,1,2,1,1,1,2,1,1,1,1,1,4\"\n",
    "initial_gen = np.array([int(x) for x in input_day06.split(\",\")])\n",
    "initial_gen"
   ]
  },
  {
   "cell_type": "code",
   "execution_count": 4,
   "metadata": {},
   "outputs": [],
   "source": [
    "def run_simulation(start_gen, cycles):\n",
    "    # start generation cannot have any zeros\n",
    "    if np.count_nonzero(start_gen == 0) > 0:\n",
    "        raise Exception(\"invalid start_gen\")\n",
    "    # work on a copy\n",
    "    current_gen = np.copy(start_gen)\n",
    "    fishes_to_add = 0\n",
    "    for i in range(cycles):\n",
    "        if fishes_to_add:\n",
    "            # replace 0 by sevens\n",
    "            a1 = np.where(current_gen == 0, 7, current_gen)\n",
    "            # add the new fishes as nines\n",
    "            a2 = np.array([9] * fishes_to_add)\n",
    "            # update the current_gen\n",
    "            old_gen = current_gen\n",
    "            current_gen = np.append(a1, a2)    \n",
    "            del a1, a2, old_gen\n",
    "            # reset fishes_to_add\n",
    "            fishes_to_add = 0\n",
    "        # decrease all by one \n",
    "        current_gen = current_gen - 1\n",
    "        # count fishes to be added on the next iteration\n",
    "        fishes_to_add = np.count_nonzero(current_gen == 0)\n",
    "    return len(current_gen)"
   ]
  },
  {
   "cell_type": "code",
   "execution_count": 5,
   "metadata": {},
   "outputs": [
    {
     "name": "stdout",
     "output_type": "stream",
     "text": [
      "After 18 days you will have 26 fishes.\n"
     ]
    }
   ],
   "source": [
    "# test 1\n",
    "days = 18\n",
    "fishcount = run_simulation(initial_gen_test, days)\n",
    "assert fishcount == 26\n",
    "print(\"After\", days, \"days you will have\", fishcount, \"fishes.\")"
   ]
  },
  {
   "cell_type": "code",
   "execution_count": 6,
   "metadata": {},
   "outputs": [
    {
     "name": "stdout",
     "output_type": "stream",
     "text": [
      "After 80 days you will have 5934 fishes.\n"
     ]
    }
   ],
   "source": [
    "# test 2\n",
    "days = 80\n",
    "fishcount = run_simulation(initial_gen_test, days)\n",
    "assert fishcount == 5934\n",
    "print(\"After\", days, \"days you will have\", fishcount, \"fishes.\")"
   ]
  },
  {
   "cell_type": "code",
   "execution_count": 7,
   "metadata": {},
   "outputs": [
    {
     "name": "stdout",
     "output_type": "stream",
     "text": [
      "Answer to Part 1: After 80 days you will have 371379 fishes.\n"
     ]
    }
   ],
   "source": [
    "# actual solution to part 1\n",
    "days = 80\n",
    "fishcount = run_simulation(initial_gen, days)\n",
    "print(\"Answer to Part 1: After\", days, \"days you will have\", fishcount, \"fishes.\")"
   ]
  },
  {
   "cell_type": "code",
   "execution_count": 52,
   "metadata": {},
   "outputs": [],
   "source": [
    "# Part 2\n",
    "\n",
    "def run_simulation_v2(start_gen, cycles):\n",
    "    # the key idea here is not to work with the individual fishes,\n",
    "    # but with a list containing the frequency of each value in\n",
    "    # that given position\n",
    "    freqs_dict = dict.fromkeys(range(9),0)\n",
    "    freqs_dict.update(dict(zip(*np.unique(start_gen, return_counts=True))))\n",
    "    freqs = list(freqs_dict.values())\n",
    "    for i in range(cycles):\n",
    "        # rotate the list to the left\n",
    "        freqs = freqs[1:] + freqs[0:1]\n",
    "        # balance the offset for zero fishes that became sixes\n",
    "        freqs[6] += freqs[8]\n",
    "        # print(\"After\", i+1, \"days:\", freqs)\n",
    "    return sum(freqs)"
   ]
  },
  {
   "cell_type": "code",
   "execution_count": 53,
   "metadata": {},
   "outputs": [
    {
     "name": "stdout",
     "output_type": "stream",
     "text": [
      "After 18 days you will have 26 fishes.\n"
     ]
    }
   ],
   "source": [
    "# test 1\n",
    "days = 18\n",
    "fishcount = run_simulation_v2(initial_gen_test, days)\n",
    "assert fishcount == 26\n",
    "print(\"After\", days, \"days you will have\", fishcount, \"fishes.\")"
   ]
  },
  {
   "cell_type": "code",
   "execution_count": 54,
   "metadata": {},
   "outputs": [
    {
     "name": "stdout",
     "output_type": "stream",
     "text": [
      "After 80 days you will have 5934 fishes.\n"
     ]
    }
   ],
   "source": [
    "# test 2\n",
    "days = 80\n",
    "fishcount = run_simulation_v2(initial_gen_test, days)\n",
    "assert fishcount == 5934\n",
    "print(\"After\", days, \"days you will have\", fishcount, \"fishes.\")"
   ]
  },
  {
   "cell_type": "code",
   "execution_count": 55,
   "metadata": {},
   "outputs": [
    {
     "name": "stdout",
     "output_type": "stream",
     "text": [
      "After 80 days you will have 371379 fishes.\n"
     ]
    }
   ],
   "source": [
    "# test using the actual solution to part 1\n",
    "days = 80\n",
    "fishcount = run_simulation_v2(initial_gen, days)\n",
    "assert fishcount == 371379\n",
    "print(\"After\", days, \"days you will have\", fishcount, \"fishes.\")"
   ]
  },
  {
   "cell_type": "code",
   "execution_count": 56,
   "metadata": {},
   "outputs": [
    {
     "name": "stdout",
     "output_type": "stream",
     "text": [
      "After 256 days you will have 1674303997472 fishes.\n"
     ]
    }
   ],
   "source": [
    "# solve part 2\n",
    "days = 256\n",
    "fishcount = run_simulation_v2(initial_gen, days)\n",
    "\n",
    "print(\"After\", days, \"days you will have\", fishcount, \"fishes.\")"
   ]
  },
  {
   "cell_type": "code",
   "execution_count": null,
   "metadata": {},
   "outputs": [],
   "source": []
  }
 ],
 "metadata": {
  "kernelspec": {
   "display_name": "Python 3",
   "language": "python",
   "name": "python3"
  },
  "language_info": {
   "codemirror_mode": {
    "name": "ipython",
    "version": 3
   },
   "file_extension": ".py",
   "mimetype": "text/x-python",
   "name": "python",
   "nbconvert_exporter": "python",
   "pygments_lexer": "ipython3",
   "version": "3.10.0"
  }
 },
 "nbformat": 4,
 "nbformat_minor": 4
}
