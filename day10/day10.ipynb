{
 "cells": [
  {
   "cell_type": "code",
   "execution_count": 1,
   "metadata": {},
   "outputs": [],
   "source": [
    "import numpy as np\n",
    "\n",
    "input_day10_test = \"\"\n",
    "with open(\"input-day10-test\") as f:\n",
    "    input_day10_test = [x for x in f.read().strip().split(\"\\n\")]\n",
    "\n",
    "input_day10 = \"\"\n",
    "with open(\"input-day10\") as f:\n",
    "    input_day10 = [x for x in f.read().strip().split(\"\\n\")]"
   ]
  },
  {
   "cell_type": "code",
   "execution_count": 2,
   "metadata": {},
   "outputs": [],
   "source": [
    "class SubsystemParser:\n",
    "    \n",
    "    __slots__ = \"lines\"\n",
    "    \n",
    "    def __init__(self, lines):\n",
    "        self.lines = list(lines)\n",
    "\n",
    "    def get_corrupted_char(self, line):\n",
    "        parse_stack = []\n",
    "        delimiters = {\n",
    "            '(': ')',\n",
    "            '[': ']',\n",
    "            '{': '}',\n",
    "            '<': '>',\n",
    "        }\n",
    "        openers = delimiters.keys()\n",
    "        closers = delimiters.values()\n",
    "        for c in line:\n",
    "            if not parse_stack:\n",
    "                parse_stack.append(c)\n",
    "                continue\n",
    "            if c in openers:\n",
    "                parse_stack.append(c)\n",
    "                continue\n",
    "            expected_closer = delimiters[parse_stack[-1]]\n",
    "            if expected_closer == c:\n",
    "                parse_stack.pop()\n",
    "            else:\n",
    "                return c\n",
    "        return None\n",
    "            \n",
    "    def get_corrupted_score(self):\n",
    "        corrupted_chars = []\n",
    "        for line in self.lines:\n",
    "            c = self.get_corrupted_char(line)\n",
    "            if c:\n",
    "                corrupted_chars.append(c)              \n",
    "        scores = {')': 3, ']': 57, '}': 1197, '>': 25137 }\n",
    "        return sum([scores[c] for c in corrupted_chars])\n",
    "    \n",
    "    def get_line_score(self, line):     \n",
    "        total_score = 0\n",
    "        scores = {')': 1, ']': 2, '}': 3, '>': 4 }\n",
    "        for c in line:\n",
    "            total_score *= 5\n",
    "            total_score += scores[c]\n",
    "        return total_score\n",
    "    \n",
    "    def get_fixed_lines_score(self):\n",
    "        valid_lines = [x for x in self.lines if not self.get_corrupted_char(x)]\n",
    "        results = []\n",
    "        delimiters = {\n",
    "            '(': ')',\n",
    "            '[': ']',\n",
    "            '{': '}',\n",
    "            '<': '>',\n",
    "        }\n",
    "        openers = delimiters.keys()\n",
    "        closers = delimiters.values()\n",
    "        for line in valid_lines:\n",
    "            result = \"\"\n",
    "            parse_stack = []\n",
    "            for c in line:\n",
    "                if not parse_stack:\n",
    "                    parse_stack.append(c)\n",
    "                    continue\n",
    "                if c in openers:\n",
    "                    parse_stack.append(c)\n",
    "                    continue\n",
    "                expected_closer = delimiters[parse_stack[-1]]\n",
    "                if expected_closer == c:\n",
    "                    parse_stack.pop()\n",
    "                else:\n",
    "                    raise ValueError(\"cannot be\")\n",
    "            parse_stack.reverse()\n",
    "            complement = \"\".join([delimiters[x] for x in parse_stack])\n",
    "            # print(\"line:\", line, complement, self.get_line_score(complement))\n",
    "            results.append(self.get_line_score(complement))\n",
    "        return int(np.median(np.array([int(x) for x in results])))\n",
    "\n",
    "parser = SubsystemParser(input_day10_test)\n",
    "assert parser.get_corrupted_score() == 26397"
   ]
  },
  {
   "cell_type": "code",
   "execution_count": 3,
   "metadata": {},
   "outputs": [
    {
     "name": "stdout",
     "output_type": "stream",
     "text": [
      "Part 1: 370407\n"
     ]
    }
   ],
   "source": [
    "parser = SubsystemParser(input_day10)\n",
    "print(\"Part 1:\", parser.get_corrupted_score())"
   ]
  },
  {
   "cell_type": "code",
   "execution_count": 4,
   "metadata": {},
   "outputs": [],
   "source": [
    "parser2 = SubsystemParser(input_day10_test)\n",
    "assert 288957 == parser2.get_fixed_lines_score()"
   ]
  },
  {
   "cell_type": "code",
   "execution_count": 5,
   "metadata": {},
   "outputs": [
    {
     "name": "stdout",
     "output_type": "stream",
     "text": [
      "Part 2: 3249889609\n"
     ]
    }
   ],
   "source": [
    "parser2 = SubsystemParser(input_day10)\n",
    "print(\"Part 2:\", parser2.get_fixed_lines_score())"
   ]
  },
  {
   "cell_type": "code",
   "execution_count": null,
   "metadata": {},
   "outputs": [],
   "source": []
  }
 ],
 "metadata": {
  "kernelspec": {
   "display_name": "Python 3",
   "language": "python",
   "name": "python3"
  },
  "language_info": {
   "codemirror_mode": {
    "name": "ipython",
    "version": 3
   },
   "file_extension": ".py",
   "mimetype": "text/x-python",
   "name": "python",
   "nbconvert_exporter": "python",
   "pygments_lexer": "ipython3",
   "version": "3.10.0"
  }
 },
 "nbformat": 4,
 "nbformat_minor": 4
}
